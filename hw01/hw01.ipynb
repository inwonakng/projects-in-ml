{
 "cells": [
  {
   "cell_type": "markdown",
   "metadata": {},
   "source": [
    "Task 1 (10 points): Describe a machine learning problem that you would like to solve using \n",
    "Logistic Regression. Clearly state why Logistic regression is the best choice for solving this \n",
    "problem."
   ]
  },
  {
   "cell_type": "markdown",
   "metadata": {},
   "source": [
    "Task 2 (20 points): Pick a publicly available dataset (except The Titanic Dataset because we \n",
    "already discussed that in class) that you will use to solve this problem. You must provide a link \n",
    "to the dataset and perform necessary Exploratory Data Analysis (EDA). Clearly demonstrate the \n",
    "steps you follow for your EDA with a justification of why these were required. For example, if \n",
    "the dataset has lot of missing values, then why did you use a specific technique when handling \n",
    "missing data. This task may include data visualization (Check this link : \n",
    "https://www.geeksforgeeks.org/top-8-python-libraries-for-data-visualization/)."
   ]
  },
  {
   "cell_type": "markdown",
   "metadata": {},
   "source": [
    "Task 3 (35 points): Implement, Logistic Regression in this step. Clearly write your cost function \n",
    "and derivatives before implementing gradient descent. Do not use any built-in packages for this \n",
    "step. You can use the vectorization techniques demonstrated in class. Implement any 2 variants \n",
    "of gradient descent in their original form. (Refer to the research paper discussed in class)."
   ]
  },
  {
   "cell_type": "markdown",
   "metadata": {},
   "source": [
    "Task 4 (35 points): Pick any 2 optimization algorithms that are used to optimize the ‘vanilla’\n",
    "gradient descent. Implement both. You may implement these algorithms yourself OR use a \n",
    "package. In your conclusion, compare both optimization techniques/algorithms with respect to \n",
    "the results you achieve. Also compare these results with the original implementation of \n",
    "gradient descent (Task 3 above). Describe why or why not should we use optimization \n",
    "algorithms for the task at hand"
   ]
  },
  {
   "cell_type": "code",
   "execution_count": null,
   "metadata": {},
   "outputs": [],
   "source": [
    "from sklearn.linear_model import LogisticRegression"
   ]
  }
 ],
 "metadata": {
  "language_info": {
   "name": "python"
  },
  "orig_nbformat": 4
 },
 "nbformat": 4,
 "nbformat_minor": 2
}
