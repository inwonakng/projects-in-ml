{
 "cells": [
  {
   "cell_type": "markdown",
   "metadata": {},
   "source": [
    "In your project, you will pick an image dataset to solve a classification task. Provide a link to your dataset.\n",
    "\n",
    "\n",
    "## Task 1 (70 points):\n",
    "\n",
    "### Part 1 (20 points): \n",
    "This step involves downloading, preparing, and visualizing your dataset. \n",
    "Create a convolutional base using a common pattern: a stack of Conv and MaxPooling layers. \n",
    "Depending on the problem and the dataset you must decide what pattern you want to use (i.e., how many Conv layers and how many pooling layers).\n",
    "Please describe why you chose a particular pattern. Add the final dense layer(s).\n",
    "Compile and train the model. Report the final evaluation and describe the metrics.\n",
    "\n",
    "\n",
    "### Part 2 (25 points): \n",
    "The following models are widely used for transfer learning because of their performance and architectural innovations:\n",
    "\n",
    "1. VGG (e.g., VGG16 or VGG19).\n",
    "2. GoogLeNet (e.g., InceptionV3).\n",
    "3. Residual Network (e.g., ResNet50).\n",
    "4. MobileNet (e.g., MobileNetV2)\n",
    "\n",
    "Choose any one of the above models to perform the classification task you did in Part 1.\n",
    "Evaluate the results using the same metrics as in Part 1. Are there any differences? Why or why not?\n",
    "\n",
    "\n",
    "### Part 3 (25 points): \n",
    "\n",
    "Use data augmentation to increase the diversity of your dataset by applying random transformations such as image rotation (you can use any other technique as well). \n",
    "Repeat the process from part 1 with this augmented data. Did you observe any difference in results?\n",
    "\n",
    "## Task 2 (30 points):\n",
    "\n",
    "### Part 1 (15 points): \n",
    "Variational Autoencoder (VAE): Here is a complete implementation of a VAE in TensorFlow: https://www.tensorflow.org/tutorials/generative/cvae\n",
    "Following these steps try generating images using the same encoder-decoder architecture using a different Image dataset (other than MNIST).\n",
    "\n",
    "### Part 2 (15 points): \n",
    "Generative Adversarial Networks (GANs): Repeat part 1 (use same dataset) and implement a GAN model to generate high quality synthetic images. \n",
    "You may follow steps outlined here: https://www.tensorflow.org/tutorials/generative/dcgan\n",
    "\n",
    "### Project Progress Report (This is not graded)\n",
    "Please submit a report detailing your progress on the final project. This can be a 1 (maximum 2)\n",
    "page long description of your data-collection/modelling/preliminary results related tasks. Also,\n",
    "describe the next steps towards your final goal."
   ]
  },
  {
   "cell_type": "code",
   "execution_count": null,
   "metadata": {},
   "outputs": [],
   "source": []
  }
 ],
 "metadata": {
  "kernelspec": {
   "display_name": "Python 3.10.6 64-bit",
   "language": "python",
   "name": "python3"
  },
  "language_info": {
   "name": "python",
   "version": "3.10.6"
  },
  "orig_nbformat": 4,
  "vscode": {
   "interpreter": {
    "hash": "916dbcbb3f70747c44a77c7bcd40155683ae19c65e1c03b4aa3499c5328201f1"
   }
  }
 },
 "nbformat": 4,
 "nbformat_minor": 2
}
