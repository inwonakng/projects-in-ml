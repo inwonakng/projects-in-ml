{
  "cells": [
    {
      "cell_type": "markdown",
      "metadata": {
        "id": "8OffYHv8bgin"
      },
      "source": [
        "# HW 1 for Projects in ML and AI"
      ]
    },
    {
      "cell_type": "markdown",
      "metadata": {
        "id": "_ujdeuN8Eq1R"
      },
      "source": [
        "## Setup Stuff"
      ]
    },
    {
      "cell_type": "code",
      "execution_count": 1,
      "metadata": {
        "id": "Ua44PO2dcaf_"
      },
      "outputs": [],
      "source": [
        "# installing dependencyes\n",
        "\n",
        "!pip install -q kaggle"
      ]
    },
    {
      "cell_type": "code",
      "execution_count": 2,
      "metadata": {
        "colab": {
          "base_uri": "https://localhost:8080/"
        },
        "id": "CSdh4IlCdVWV",
        "outputId": "5f5da4bc-98dc-4cb0-9e6a-44a975c0d23b"
      },
      "outputs": [
        {
          "name": "stdout",
          "output_type": "stream",
          "text": [
            "Mounted at /content/drive\n",
            "rm: cannot remove '/root/.kaggle': No such file or directory\n"
          ]
        }
      ],
      "source": [
        "# mount drive and set up kaggle API\n",
        "\n",
        "from google.colab import drive\n",
        "drive.mount('/content/drive')\n",
        "\n",
        "!rm -r ~/.kaggle\n",
        "!mkdir ~/.kaggle\n",
        "!cp /content/drive/MyDrive/.kaggle/kaggle.json ~/.kaggle/\n",
        "!chmod 600 ~/.kaggle/kaggle.json"
      ]
    },
    {
      "cell_type": "code",
      "execution_count": 3,
      "metadata": {
        "colab": {
          "base_uri": "https://localhost:8080/"
        },
        "id": "-R-m5S4PcoKF",
        "outputId": "a8bf2302-186e-4c3c-f1a7-7a111a9020c8"
      },
      "outputs": [
        {
          "name": "stdout",
          "output_type": "stream",
          "text": [
            "rm: cannot remove 'dataset': No such file or directory\n",
            "Downloading occupancy-detection-dataset.zip to /content\n",
            "  0% 0.00/213k [00:00<?, ?B/s]\n",
            "100% 213k/213k [00:00<00:00, 54.5MB/s]\n",
            "Archive:  occupancy-detection-dataset.zip\n",
            "  inflating: dataset/OccupancyData/DataTest.csv  \n",
            "  inflating: dataset/OccupancyData/DataTraining.csv  \n"
          ]
        }
      ],
      "source": [
        "# install dataset and unzip\n",
        "\n",
        "!rm -r dataset\n",
        "\n",
        "!kaggle datasets download -d saumitgp/occupancy-detection-dataset\n",
        "!mkdir dataset\n",
        "!unzip occupancy-detection-dataset.zip -d dataset"
      ]
    },
    {
      "cell_type": "markdown",
      "metadata": {
        "id": "KYuKQexgLgXy"
      },
      "source": [
        "## Task 1\n",
        "\n",
        "Describe a machine learning problem that you would like to solve using Logistic Regression. Clearly state why Logistic regression is the best choice for solving this problem.\n",
        "\n",
        "The problem of telling apart whether a room is occupied by a human or not (classificaion) can be solved using a classification algorithm and training on various features, such as light, co2, temperature, and humidity of a room. I found a dataset called occupation detection on [Kaggle](https://www.kaggle.com/datasets/saumitgp/occupancy-detection-dataset). The original dataset seems to be from [here](https://archive.ics.uci.edu/ml/datasets/Occupancy+Detection+). The kaggle version seems to have similar number of rows, so I decided to stick to the Kaggle version\n"
      ]
    },
    {
      "cell_type": "markdown",
      "metadata": {
        "id": "WuEdw9uJLgXz"
      },
      "source": [
        "## Task 2\n",
        "\n",
        "Pick a publicly available dataset (except The Titanic Dataset because we already discussed that in class) that you will use to solve this problem. You must provide a link to the dataset and perform necessary Exploratory Data Analysis (EDA). Clearly demonstrate the \n",
        "steps you follow for your EDA with a justification of why these were required. For example, if the dataset has lot of missing values, then why did you use a specific technique when handling missing data. This task may include data visualization (Check this link : https://www.geeksforgeeks.org/top-8-python-libraries-for-data-visualization/). The link for the dataset being used here is [this](https://www.kaggle.com/datasets/saumitgp/occupancy-detection-dataset)"
      ]
    },
    {
      "cell_type": "markdown",
      "metadata": {
        "id": "D6z2khrjpoeA"
      },
      "source": [
        "First, we read in dataset and make a pretty df"
      ]
    },
    {
      "cell_type": "code",
      "execution_count": 12,
      "metadata": {
        "id": "is1vZ6Jto0Xz"
      },
      "outputs": [],
      "source": [
        "import numpy as np\n",
        "import pandas as pd\n",
        "from sklearn.model_selection import train_test_split\n",
        "from sklearn.preprocessing import StandardScaler\n",
        "import torch\n",
        "\n",
        "# the balance is weird, I will merge the train and test files first and split them to 8:2\n",
        "df = pd.concat([\n",
        "        pd.read_csv('dataset/OccupancyData/DataTraining.csv',index_col=[0]),\n",
        "        pd.read_csv('dataset/OccupancyData/DataTest.csv',index_col=[0])\n",
        "    ])\n",
        "raw_vals = df.drop(columns=['date']).values\n",
        "X,y = raw_vals[:,:-1],raw_vals[:,-1]\n",
        "# pad X with 1 in the beginning, this will serve as our bias term\n",
        "X_train,X_test,y_train,y_test = train_test_split(X,y,test_size=.2,random_state=0)\n",
        "\n",
        "# scaling the features just in case... turned out it's not really necessary\n",
        "X_train = StandardScaler().fit_transform(X_train)\n",
        "X_test = StandardScaler().fit_transform(X_test)\n"
      ]
    },
    {
      "cell_type": "markdown",
      "metadata": {
        "id": "OmzEjMCRpvrI"
      },
      "source": [
        "Check for NA values, and also for correlation between feature values.\n",
        "\n",
        "\n",
        "We find no NA values, and the correlation seems OK! (high corr between humidity ratio and humidity itself is to be expected). I believe this shows that the dataset is adequate to be used for a binary classification task using Logistic Regression, because each variable seems to be independent of each other. \n",
        "\n",
        "I also checked the distribution of the labels, it seems that we have more entries for 'No Occupancy' than 'Occupancy'. "
      ]
    },
    {
      "cell_type": "code",
      "execution_count": 13,
      "metadata": {
        "colab": {
          "base_uri": "https://localhost:8080/",
          "height": 613
        },
        "id": "P_dKmiNNo3eT",
        "outputId": "2f0cb9c5-68ef-4ac7-d423-3bb9114f119b"
      },
      "outputs": [
        {
          "name": "stdout",
          "output_type": "stream",
          "text": [
            "checking if there is nan in any column\n",
            "date             False\n",
            "Temperature      False\n",
            "Humidity         False\n",
            "Light            False\n",
            "CO2              False\n",
            "HumidityRatio    False\n",
            "Occupancy        False\n",
            "dtype: bool\n"
          ]
        },
        {
          "data": {
            "text/plain": [
              "<matplotlib.axes._subplots.AxesSubplot at 0x7fc2c1c3e2d0>"
            ]
          },
          "execution_count": 13,
          "metadata": {},
          "output_type": "execute_result"
        },
        {
          "data": {
            "image/png": "[encoded data removed]",
            "text/plain": [
              "<Figure size 1080x432 with 3 Axes>"
            ]
          },
          "metadata": {
            "needs_background": "light"
          },
          "output_type": "display_data"
        }
      ],
      "source": [
        "import seaborn as sns\n",
        "import matplotlib.pyplot as plt\n",
        "\n",
        "print('checking if there is nan in any column')\n",
        "print(df.isna().any())\n",
        "\n",
        "fig,axes = plt.subplots(ncols=2,figsize=(15,6))\n",
        "sns.heatmap(\n",
        "    df.corr(method='kendall'),\n",
        "    ax=axes[0],\n",
        "    annot=True\n",
        ")\n",
        "\n",
        "df.Occupancy.hist(ax=axes[1])"
      ]
    },
    {
      "cell_type": "markdown",
      "metadata": {
        "id": "1ucln5wHLgX0"
      },
      "source": [
        "## Task 3\n",
        "\n",
        "Implement Logistic Regression in this step. Clearly write your cost function and derivatives before implementing gradient descent. Do not use any built-in packages for this step. You can use the vectorization techniques demonstrated in class. Implement any 2 variants of gradient descent in their original form. (Refer to the research paper discussed in class).\n",
        "\n",
        "I tested each variant with some varying learning rates and maximum iterations. For SGD, because of their long runtime, I maxed out the iterations at 500.\n",
        "\n",
        "I implemented the vanilla (batched and minibatched) gradient descent and also the SGD. My cost function and activation are specified before the class, and each derivative is taken at the _update functions.\n",
        "\n",
        "I found that while full and mini batches still work pretty well with this dataset, the SGD variants performed even better, although taking longer time to train due to increased number of iterations. With SGD, I also noted that starting with higher learning rates work better."
      ]
    },
    {
      "cell_type": "code",
      "execution_count": 14,
      "metadata": {
        "id": "3EwmSuL8o4sj"
      },
      "outputs": [],
      "source": [
        "import numpy as np \n",
        "from tqdm.auto import tqdm\n",
        "import random\n",
        "\n",
        "np.random.seed(0)\n",
        "random.seed(0)\n",
        "# tiny offset to avoid zero division in logs\n",
        "OFFSET = 1e-7\n",
        "\n",
        "# My Activation and Cost functions (Both taken from lecture)\n",
        "activation = lambda x: (1/(1+np.exp(-x)))\n",
        "loss = lambda real,pred: -(real*np.log(pred+OFFSET) + (1-real)*np.log(1-pred+OFFSET))\n",
        "\n",
        "class VanillaLogisticRegression():\n",
        "    def __init__(self, learning_rate = 1e-3,n_iter=1000,mode = 'batch'):\n",
        "        self.learning_rate = learning_rate\n",
        "        self.n_iter = n_iter\n",
        "        self.mode = mode\n",
        "        self.batch_size = None\n",
        "        if self.mode == 'minibatch':\n",
        "            self.batch_size = 256\n",
        "            # aside from the batch size, everything else is shared\n",
        "            self.mode = 'batch'\n",
        "\n",
        "    def fit(self,X_train,y_train):\n",
        "        if not self.batch_size: self.batch_size = X_train.shape[0]\n",
        "        self.W = np.random.random((1,X_train.shape[1]))\n",
        "        self.B = np.random.random(1)\n",
        "        self.losses = np.zeros(self.n_iter*X_train.shape[0])\n",
        "        grad_func = self.batch_update if 'batch' in self.mode else self.SGD_update\n",
        "\n",
        "        for i in range(self.n_iter):\n",
        "            X_sample,y_sample = self.get_batch(X_train,y_train)\n",
        "            # for b in range(n_batches):\n",
        "            grad_func(X_sample,y_sample,i)\n",
        "\n",
        "    def get_batch(self,X_train,y_train):\n",
        "        idxs = np.arange(X_train.shape[0])\n",
        "        np.random.shuffle(idxs)\n",
        "        return X_train[idxs[:self.batch_size]],y_train[idxs[:self.batch_size]]\n",
        "\n",
        "    def SGD_update(self,X_sample,y_sample,iter):\n",
        "        for i,(real,example) in enumerate(zip(y_sample,X_sample)): \n",
        "            y_hat = self.predict_prob(example[None,:])\n",
        "            dW = example * (y_hat - real)\n",
        "            dB = y_hat - real\n",
        "            self.W -= dW * self.learning_rate\n",
        "            self.B -= dB * self.learning_rate\n",
        "            self.losses[iter*X_sample.shape[0]+i] = loss(real,y_hat)\n",
        "    \n",
        "    def batch_update(self,X_sample,y_sample,iter):\n",
        "        y_hat = self.predict_prob(X_sample)\n",
        "        dW = X_sample.T @ (y_hat - y_sample)\n",
        "        dB = (y_hat - y_sample).mean()\n",
        "        self.W -= dW * self.learning_rate\n",
        "        self.B -= dB * self.learning_rate\n",
        "        # self.losses[iter] = l.sum()\n",
        "        self.losses[iter*X_sample.shape[0] : (iter+1)*X_sample.shape[0]] = loss(y_sample,y_hat)\n",
        "\n",
        "    def predict_prob(self,X):\n",
        "        # Added slicing at end to return it flat\n",
        "        return activation(X @ self.W.T + self.B)[:,0]\n",
        "\n",
        "    def predict(self,X):\n",
        "        return (self.predict_prob(X) > .5).astype(int)\n",
        "\n",
        "    def score(self,X,y):\n",
        "        pred = self.predict(X)\n",
        "        return (y == pred).mean()\n",
        "\n",
        "results = []\n"
      ]
    },
    {
      "cell_type": "code",
      "execution_count": 8,
      "metadata": {
        "colab": {
          "base_uri": "https://localhost:8080/",
          "height": 917,
          "referenced_widgets": [
            "12949b7a6a394d31b455b4cfce43f91c",
            "5003f1d9adf747b7840bad346b9f618e",
            "8f1cdcd344404399a6037f974822ec4b",
            "cd3d3f94363144c784ca62057914feeb",
            "202ff21901564d81bd68a291554c1749",
            "992e75040b5d4d40b1745f2a5db215ad",
            "95e47bb01c2a4ac0829bdcf94ebc19ee",
            "505ff1d29cbd4b15a828bc7b16141092",
            "04e9c3bcc3cd42a7a9cc393f8e168e23",
            "539158e68e0e431f9e6a3e6f0d8c8c2e",
            "eb80f952626f41dcb45bcb01e8d5be8a"
          ]
        },
        "id": "l4PR3ZUsUDfN",
        "outputId": "333819d2-83b9-484c-cb34-c82ed9d9970a"
      },
      "outputs": [
        {
          "data": {
            "application/vnd.jupyter.widget-view+json": {
              "model_id": "12949b7a6a394d31b455b4cfce43f91c",
              "version_major": 2,
              "version_minor": 0
            },
            "text/plain": [
              "vanilla batched grads:   0%|          | 0/48 [00:00<?, ?it/s]"
            ]
          },
          "metadata": {},
          "output_type": "display_data"
        },
        {
          "name": "stderr",
          "output_type": "stream",
          "text": [
            "/usr/local/lib/python3.7/dist-packages/ipykernel_launcher.py:11: RuntimeWarning: overflow encountered in exp\n",
            "  # This is added back by InteractiveShellApp.init_path()\n"
          ]
        },
        {
          "name": "stdout",
          "output_type": "stream",
          "text": [
            "{'mode': 'minibatch', 'n': 100, 'lr': 5, 'train': 0.9730371612182174, 'test': 0.9695445655210952}\n",
            "{'mode': 'minibatch', 'n': 100, 'lr': 2, 'train': 0.9678681195864767, 'test': 0.9631181894383906}\n",
            "{'mode': 'minibatch', 'n': 100, 'lr': 1, 'train': 0.9345487566359318, 'test': 0.9304274937133278}\n",
            "{'mode': 'minibatch', 'n': 100, 'lr': 0.01, 'train': 0.9557138865604917, 'test': 0.9519418832075999}\n",
            "{'mode': 'minibatch', 'n': 100, 'lr': 0.001, 'train': 0.886071528359877, 'test': 0.8882369376920928}\n",
            "{'mode': 'minibatch', 'n': 100, 'lr': 0.0001, 'train': 0.6032411288069293, 'test': 0.6166526962838782}\n",
            "{'mode': 'minibatch', 'n': 200, 'lr': 5, 'train': 0.9522212908633697, 'test': 0.9511036602402906}\n",
            "{'mode': 'minibatch', 'n': 200, 'lr': 2, 'train': 0.9235820061469684, 'test': 0.9237217099748533}\n",
            "{'mode': 'minibatch', 'n': 200, 'lr': 1, 'train': 0.9747834590667784, 'test': 0.9731768650461022}\n",
            "{'mode': 'minibatch', 'n': 200, 'lr': 0.01, 'train': 0.9515926236378877, 'test': 0.946912545403744}\n",
            "{'mode': 'minibatch', 'n': 200, 'lr': 0.001, 'train': 0.9454456552109528, 'test': 0.9410449846325789}\n",
            "{'mode': 'minibatch', 'n': 200, 'lr': 0.0001, 'train': 0.8270466610785135, 'test': 0.8231349538977368}\n",
            "{'mode': 'minibatch', 'n': 500, 'lr': 5, 'train': 0.9647247834590668, 'test': 0.9586476669460743}\n",
            "{'mode': 'minibatch', 'n': 500, 'lr': 2, 'train': 0.9845627270187203, 'test': 0.9751327186364906}\n",
            "{'mode': 'minibatch', 'n': 500, 'lr': 1, 'train': 0.9859597652975691, 'test': 0.9787650181614976}\n",
            "{'mode': 'minibatch', 'n': 500, 'lr': 0.01, 'train': 0.9545962559374127, 'test': 0.949427214305672}\n",
            "{'mode': 'minibatch', 'n': 500, 'lr': 0.001, 'train': 0.9538977367979883, 'test': 0.9491478066499022}\n",
            "{'mode': 'minibatch', 'n': 500, 'lr': 0.0001, 'train': 0.857781503213188, 'test': 0.8499580888516345}\n",
            "{'mode': 'minibatch', 'n': 1000, 'lr': 5, 'train': 0.989731768650461, 'test': 0.9829561329980442}\n",
            "{'mode': 'minibatch', 'n': 1000, 'lr': 2, 'train': 0.9863090248672813, 'test': 0.9815590947191953}\n",
            "{'mode': 'minibatch', 'n': 1000, 'lr': 1, 'train': 0.9588572226879016, 'test': 0.9550153674210673}\n",
            "{'mode': 'minibatch', 'n': 1000, 'lr': 0.01, 'train': 0.9653534506845488, 'test': 0.9622799664710813}\n",
            "{'mode': 'minibatch', 'n': 1000, 'lr': 0.001, 'train': 0.949427214305672, 'test': 0.9455155071248952}\n",
            "{'mode': 'minibatch', 'n': 1000, 'lr': 0.0001, 'train': 0.9395082425258452, 'test': 0.9365744621402626}\n",
            "{'mode': 'batch', 'n': 100, 'lr': 5, 'train': 0.8368259290304554, 'test': 0.8362671137189159}\n",
            "{'mode': 'batch', 'n': 100, 'lr': 2, 'train': 0.9624196702989662, 'test': 0.9589270746018441}\n",
            "{'mode': 'batch', 'n': 100, 'lr': 1, 'train': 0.9365046102263203, 'test': 0.9396479463537301}\n",
            "{'mode': 'batch', 'n': 100, 'lr': 0.01, 'train': 0.896968426934898, 'test': 0.8974573903324952}\n",
            "{'mode': 'batch', 'n': 100, 'lr': 0.001, 'train': 0.9491478066499022, 'test': 0.9438390611902766}\n",
            "{'mode': 'batch', 'n': 100, 'lr': 0.0001, 'train': 0.9467728415758592, 'test': 0.943280245878737}\n",
            "{'mode': 'batch', 'n': 200, 'lr': 5, 'train': 0.9448169879854708, 'test': 0.9502654372729813}\n",
            "{'mode': 'batch', 'n': 200, 'lr': 2, 'train': 0.9325929030455434, 'test': 0.9351774238614138}\n",
            "{'mode': 'batch', 'n': 200, 'lr': 1, 'train': 0.7838781782620844, 'test': 0.791561888795753}\n",
            "{'mode': 'batch', 'n': 200, 'lr': 0.01, 'train': 0.7198938250908075, 'test': 0.7298127968706343}\n",
            "{'mode': 'batch', 'n': 200, 'lr': 0.001, 'train': 0.9548756635931824, 'test': 0.9502654372729813}\n",
            "{'mode': 'batch', 'n': 200, 'lr': 0.0001, 'train': 0.9512433640681754, 'test': 0.946912545403744}\n",
            "{'mode': 'batch', 'n': 500, 'lr': 5, 'train': 0.7219195305951384, 'test': 0.7404302877898854}\n",
            "{'mode': 'batch', 'n': 500, 'lr': 2, 'train': 0.9464934339200894, 'test': 0.9483095836825929}\n",
            "{'mode': 'batch', 'n': 500, 'lr': 1, 'train': 0.857292539815591, 'test': 0.8619726180497346}\n",
            "{'mode': 'batch', 'n': 500, 'lr': 0.01, 'train': 0.9253981559094719, 'test': 0.9318245319921766}\n",
            "{'mode': 'batch', 'n': 500, 'lr': 0.001, 'train': 0.9569712210114557, 'test': 0.9555741827326069}\n",
            "{'mode': 'batch', 'n': 500, 'lr': 0.0001, 'train': 0.9516624755518301, 'test': 0.946912545403744}\n",
            "{'mode': 'batch', 'n': 1000, 'lr': 5, 'train': 0.8633696563285834, 'test': 0.8664431405420508}\n",
            "{'mode': 'batch', 'n': 1000, 'lr': 2, 'train': 0.9531992176585639, 'test': 0.9527801061749092}\n",
            "{'mode': 'batch', 'n': 1000, 'lr': 1, 'train': 0.7856244761106455, 'test': 0.8002235261246158}\n",
            "{'mode': 'batch', 'n': 1000, 'lr': 0.01, 'train': 0.9481000279407655, 'test': 0.950544844928751}\n",
            "{'mode': 'batch', 'n': 1000, 'lr': 0.001, 'train': 0.961441743503772, 'test': 0.9589270746018441}\n",
            "{'mode': 'batch', 'n': 1000, 'lr': 0.0001, 'train': 0.9535484772282761, 'test': 0.9488683989941324}\n"
          ]
        }
      ],
      "source": [
        "pbar = tqdm(total=2*4*6,desc='vanilla batched grads')\n",
        "for mode in ['minibatch','batch',]:\n",
        "    for n in [100,200,500,1000]:\n",
        "        for lr in [5,2,1,.01,.001,.0001]:\n",
        "            clf = VanillaLogisticRegression(n_iter=n,learning_rate=lr,mode=mode)\n",
        "            clf.fit(X_train,y_train)\n",
        "            output = {'mode':mode,'n':n,'lr':lr,'train':clf.score(X_train,y_train),'test':clf.score(X_test,y_test),}\n",
        "            print(output)\n",
        "            results.append({**output,'model':clf})\n",
        "            pbar.update()\n",
        "pbar.close()"
      ]
    },
    {
      "cell_type": "code",
      "execution_count": 17,
      "metadata": {
        "colab": {
          "base_uri": "https://localhost:8080/",
          "height": 361,
          "referenced_widgets": [
            "0459448c0d80442b9a0bfa1adc24f1d3",
            "9f29853273c44441bc6d1cf62f86c9d0",
            "72a85d81cf3a4628a49c6d0448d72aa3",
            "9615d9c2a2d34bb38bbf20e05a92f91d",
            "95ff1c96157b45f2b280e670211cb775",
            "4df451ef18cb488ca5afa6c65e972332",
            "d55fbeea040949eea2b18cffe5363408",
            "e8660f39afa04964a48e0baa486e654d",
            "f1b8ac8e96b04a2b97229fa526efd53c",
            "64e6807d56514a05bccf8610413ad276",
            "8f6aa821239d4ea1af67d4ce4954b514"
          ]
        },
        "id": "eZMbmeCnYz7c",
        "outputId": "776945bc-b7da-4e6c-a62a-3b7855cc19be"
      },
      "outputs": [
        {
          "data": {
            "application/vnd.jupyter.widget-view+json": {
              "model_id": "0459448c0d80442b9a0bfa1adc24f1d3",
              "version_major": 2,
              "version_minor": 0
            },
            "text/plain": [
              "SGD:   0%|          | 0/18 [00:00<?, ?it/s]"
            ]
          },
          "metadata": {},
          "output_type": "display_data"
        },
        {
          "name": "stdout",
          "output_type": "stream",
          "text": [
            "{'mode': 'SGD', 'n': 100, 'lr': 10, 'train': 0.9817686504610227, 'test': 0.9754121262922604}\n",
            "{'mode': 'SGD', 'n': 100, 'lr': 5, 'train': 0.9909192511874826, 'test': 0.9857502095557418}\n",
            "{'mode': 'SGD', 'n': 100, 'lr': 2, 'train': 0.9906398435317127, 'test': 0.9851913942442023}\n",
            "{'mode': 'SGD', 'n': 100, 'lr': 1, 'train': 0.9909192511874826, 'test': 0.9849119865884325}\n",
            "{'mode': 'SGD', 'n': 100, 'lr': 0.01, 'train': 0.991617770326907, 'test': 0.9863090248672813}\n",
            "{'mode': 'SGD', 'n': 100, 'lr': 0.001, 'train': 0.991617770326907, 'test': 0.9863090248672813}\n",
            "{'mode': 'SGD', 'n': 200, 'lr': 10, 'train': 0.9917574741547919, 'test': 0.9851913942442023}\n",
            "{'mode': 'SGD', 'n': 200, 'lr': 5, 'train': 0.9911288069293098, 'test': 0.9857502095557418}\n",
            "{'mode': 'SGD', 'n': 200, 'lr': 2, 'train': 0.9907795473595976, 'test': 0.9851913942442023}\n",
            "{'mode': 'SGD', 'n': 200, 'lr': 1, 'train': 0.9898016205644035, 'test': 0.9846325789326628}\n",
            "{'mode': 'SGD', 'n': 200, 'lr': 0.01, 'train': 0.991617770326907, 'test': 0.985470801899972}\n",
            "{'mode': 'SGD', 'n': 200, 'lr': 0.001, 'train': 0.991617770326907, 'test': 0.9863090248672813}\n",
            "{'mode': 'SGD', 'n': 500, 'lr': 10, 'train': 0.989103101424979, 'test': 0.9826767253422743}\n",
            "{'mode': 'SGD', 'n': 500, 'lr': 5, 'train': 0.9907096954456552, 'test': 0.984353171276893}\n",
            "{'mode': 'SGD', 'n': 500, 'lr': 2, 'train': 0.9919670298966191, 'test': 0.9860296172115116}\n",
            "{'mode': 'SGD', 'n': 500, 'lr': 1, 'train': 0.9911288069293098, 'test': 0.985470801899972}\n",
            "{'mode': 'SGD', 'n': 500, 'lr': 0.01, 'train': 0.991617770326907, 'test': 0.9863090248672813}\n",
            "{'mode': 'SGD', 'n': 500, 'lr': 0.001, 'train': 0.991617770326907, 'test': 0.9863090248672813}\n"
          ]
        }
      ],
      "source": [
        "pbar = tqdm(total=1*3*6,desc='SGD')\n",
        "for mode in ['SGD']:\n",
        "    for n in [100,200,500]:\n",
        "        for lr in [10,5,2,1,.01,.001]:\n",
        "            clf = VanillaLogisticRegression(n_iter=n,learning_rate=lr,mode=mode)\n",
        "            clf.fit(X_train,y_train)\n",
        "            output = {'mode':mode,'n':n,'lr':lr,'train':clf.score(X_train,y_train),'test':clf.score(X_test,y_test),}\n",
        "            print(output)\n",
        "            results.append({**output,'model':clf})\n",
        "            pbar.update()\n",
        "\n",
        "pbar.close()"
      ]
    },
    {
      "cell_type": "markdown",
      "metadata": {
        "id": "_R35gBniLgX0"
      },
      "source": [
        "Pick any 2 optimization algorithms that are used to optimize the ‘vanilla’\n",
        "gradient descent. Implement both. You may implement these algorithms yourself OR use a package. In your conclusion, compare both optimization techniques/algorithms with respect to the results you achieve. Also compare these results with the original implementation of gradient descent (Task 3 above). Describe why or why not should we use optimization algorithms for the task at hand\n",
        "\n",
        "## Task 4\n",
        "\n",
        "For this task, I wrote the implementations in pytorch because it was easier to use the optimization techniques. I also took advantage of the built in gradients and sigmoid functions. \n",
        "\n",
        "I tried out RMSprop and Adam optimization techniques. I noted that these optimizations **did not** work very well with fully batched epoches, so I took the SGD approach of updating the weights for each example after shuffling at each epoch.\n",
        "These implementations took significantly longer than the previous full and mini batch implementations on numpy, but they did show an improved performance, even with 10 epochs. Both optimizations improved the performance similarly, although Adam optimizer slightly outperformed RMS. I think if performance of the model comes before the computational need, than these optimizations should be used for this particular task in order to achieve a better model."
      ]
    },
    {
      "cell_type": "code",
      "execution_count": 7,
      "metadata": {
        "id": "yvkvUlOIvTPe"
      },
      "outputs": [],
      "source": [
        "import torch\n",
        "import random\n",
        "# tiny offset to avoid zero division in logs\n",
        "OFFSET = 1e-7\n",
        "\n",
        "torch.manual_seed(0)\n",
        "\n",
        "# My Activation and Cost functions (Both taken from lecture)\n",
        "# gonna put them all on cuda because it takes longer than the numpy approach on cpu\n",
        "X_train_torch,X_test_torch,y_train_torch,y_test_torch = torch.tensor(X_train).float(),torch.tensor(X_test).float(),torch.tensor(y_train).float(),torch.tensor(y_test).float()\n",
        "\n",
        "class AdvancedLogisticRegression(torch.nn.Module):\n",
        "    def __init__(self,input_size):\n",
        "        super(AdvancedLogisticRegression,self).__init__()\n",
        "        self.W = torch.nn.Linear(input_size,1)\n",
        "\n",
        "    def forward(self,x):\n",
        "        # this is the same as our activation function before\n",
        "        # https://pytorch.org/docs/stable/generated/torch.nn.Sigmoid.html\n",
        "        return torch.sigmoid(self.W(x))"
      ]
    },
    {
      "cell_type": "markdown",
      "metadata": {
        "id": "nkhqU_JjE1AX"
      },
      "source": [
        "Adam Optimization"
      ]
    },
    {
      "cell_type": "code",
      "execution_count": 21,
      "metadata": {
        "colab": {
          "base_uri": "https://localhost:8080/",
          "height": 345,
          "referenced_widgets": [
            "8809a7e8f5ee4c799d50d4d4e7fcbb43",
            "ea7cb0661d7b4c088f18ad2629192ed7",
            "2252fac0038941f0b7a29d7bb5a2adab",
            "05e767e013bb40cfb13731173b613886",
            "bfac6790104a4b2f9f57cdf1b1e2e1a3",
            "a7909f6e2b10431d8879275a33ade908",
            "0e73af4b8aa44a749b3b1cf40c1973c0",
            "bba9bd4e2dd84af2a2c19652034c5b7f",
            "7738b3216fa24430bf83e16a9a37533e",
            "527d3f065a4b455a98b722dce1b4de58",
            "972f984dc7d848f0aaa6914c5a835823"
          ]
        },
        "id": "cchNvQ1IDds9",
        "outputId": "5e5b37ad-9ae5-49d1-c91c-e18c9489b08f"
      },
      "outputs": [
        {
          "data": {
            "application/vnd.jupyter.widget-view+json": {
              "model_id": "8809a7e8f5ee4c799d50d4d4e7fcbb43",
              "version_major": 2,
              "version_minor": 0
            },
            "text/plain": [
              "  0%|          | 0/100 [00:00<?, ?it/s]"
            ]
          },
          "metadata": {},
          "output_type": "display_data"
        },
        {
          "name": "stdout",
          "output_type": "stream",
          "text": [
            "train: 0.9916875958442688 test: 0.9860296249389648\n"
          ]
        },
        {
          "data": {
            "text/plain": [
              "<matplotlib.axes._subplots.AxesSubplot at 0x7fce70040a10>"
            ]
          },
          "execution_count": 21,
          "metadata": {},
          "output_type": "execute_result"
        },
        {
          "data": {
            "image/png": "[encoded data removed]",
            "text/plain": [
              "<Figure size 432x288 with 1 Axes>"
            ]
          },
          "metadata": {
            "needs_background": "light"
          },
          "output_type": "display_data"
        }
      ],
      "source": [
        "alr = AdvancedLogisticRegression(X_train_torch.size(1))\n",
        "# this is our loss function, does the same thing as our loss lambda for vanilla\n",
        "optimizer = torch.optim.Adam(alr.parameters(),lr=.1)\n",
        "criterion = torch.nn.BCELoss()\n",
        "losses = []\n",
        "alr.train()\n",
        "idxs = torch.arange(X_train_torch.size(0))\n",
        "for epoch in tqdm(range(100)):\n",
        "    # taking what I believe is the SGD approach?\n",
        "\n",
        "    random.shuffle(idxs)\n",
        "    for i in idxs:\n",
        "        xx,yy = X_train_torch[i],y_train_torch[i]\n",
        "        # clear optimizer memory\n",
        "        optimizer.zero_grad()\n",
        "        out = alr(xx)\n",
        "        loss = criterion(out.squeeze(),yy)\n",
        "        loss.backward()\n",
        "        optimizer.step()\n",
        "        losses.append(loss.item())\n",
        "\n",
        "alr.eval()\n",
        "train_pred = (alr(X_train_torch).squeeze() > .5).float()\n",
        "test_pred = (alr(X_test_torch).squeeze() > .5).float()\n",
        "print(f'train: {(train_pred == y_train_torch).float().mean()} test: {(test_pred == y_test_torch).float().mean()}')\n",
        "\n",
        "sns.lineplot(data=losses)\n",
        "\n",
        "# optimizer = torch.optim.RMSprop(alr.parameters(),lr=.001)"
      ]
    },
    {
      "cell_type": "markdown",
      "metadata": {
        "id": "YdL2dPgDE8He"
      },
      "source": [
        "RMSprop Optimization"
      ]
    },
    {
      "cell_type": "code",
      "execution_count": 10,
      "metadata": {
        "colab": {
          "base_uri": "https://localhost:8080/",
          "height": 345,
          "referenced_widgets": [
            "f728830c176c45c1a5dac2c80784c213",
            "4cc7821f4aba4802ae1ea9c3eeb7f16e",
            "7159010e090146f48d8d07c61bda435b",
            "8c932ead9f7b44a880211bfa3a97c9b1",
            "ff77a47ea4c745ee916d78efec295cef",
            "afc22ddc62404f7f8176bc10af813f0d",
            "f4d3f182b7ff46768ecab343e9d9059d",
            "2249bc217e23413986534486904c85d8",
            "8deb43ccc46442edb8bfa1bb1792424b",
            "3602e8480d7b4828808a2b39ebd72e59",
            "453ec1734bff44f6916cb7a8c9bbf5e7"
          ]
        },
        "id": "-ugiMzluoQ8c",
        "outputId": "f2682527-d1bf-413f-ac3f-c91a78adeab2"
      },
      "outputs": [
        {
          "data": {
            "application/vnd.jupyter.widget-view+json": {
              "model_id": "f728830c176c45c1a5dac2c80784c213",
              "version_major": 2,
              "version_minor": 0
            },
            "text/plain": [
              "  0%|          | 0/100 [00:00<?, ?it/s]"
            ]
          },
          "metadata": {},
          "output_type": "display_data"
        },
        {
          "name": "stdout",
          "output_type": "stream",
          "text": [
            "train: 0.9863090515136719 test: 0.9812796711921692\n"
          ]
        },
        {
          "data": {
            "text/plain": [
              "<matplotlib.axes._subplots.AxesSubplot at 0x7fc2beaaa890>"
            ]
          },
          "execution_count": 10,
          "metadata": {},
          "output_type": "execute_result"
        },
        {
          "data": {
            "image/png": "[encoded data removed]",
            "text/plain": [
              "<Figure size 432x288 with 1 Axes>"
            ]
          },
          "metadata": {
            "needs_background": "light"
          },
          "output_type": "display_data"
        }
      ],
      "source": [
        "alr = AdvancedLogisticRegression(X_train_torch.size(1))\n",
        "# this is our loss function, does the same thing as our loss lambda for vanilla\n",
        "optimizer = torch.optim.RMSprop(alr.parameters(),lr=.1)\n",
        "criterion = torch.nn.BCELoss()\n",
        "losses = []\n",
        "alr.train()\n",
        "idxs = torch.arange(X_train_torch.size(0))\n",
        "\n",
        "for epoch in tqdm(range(100)):\n",
        "    random.shuffle(idxs)\n",
        "\n",
        "    # taking what I believe is the SGD approach?\n",
        "    for i in idxs:\n",
        "        xx,yy = X_train_torch[i],y_train_torch[i]\n",
        "        # clear optimizer memory\n",
        "        optimizer.zero_grad()\n",
        "        out = alr(xx)\n",
        "        loss = criterion(out.squeeze(),yy)\n",
        "        loss.backward()\n",
        "        optimizer.step()\n",
        "        losses.append(loss.item())\n",
        "\n",
        "alr.eval()\n",
        "train_pred = (alr(X_train_torch).squeeze() > .5).float()\n",
        "test_pred = (alr(X_test_torch).squeeze() > .5).float()\n",
        "print(f'train: {(train_pred == y_train_torch).float().mean()} test: {(test_pred == y_test_torch).float().mean()}')\n",
        "\n",
        "sns.lineplot(data=losses)\n",
        "\n",
        "# optimizer = torch.optim.RMSprop(alr.parameters(),lr=.001)"
      ]
    }
  ],
  "metadata": {
    "colab": {
      "provenance": []
    },
    "gpuClass": "standard",
    "kernelspec": {
      "display_name": "Python 3",
      "name": "python3"
    },
    "language_info": {
      "name": "python"
    },
    "orig_nbformat": 4,
    "widgets": {
      "application/vnd.jupyter.widget-state+json": {
        "0459448c0d80442b9a0bfa1adc24f1d3": {
          "model_module": "@jupyter-widgets/controls",
          "model_module_version": "1.5.0",
          "model_name": "HBoxModel",
          "state": {
            "_dom_classes": [],
            "_model_module": "@jupyter-widgets/controls",
            "_model_module_version": "1.5.0",
            "_model_name": "HBoxModel",
            "_view_count": null,
            "_view_module": "@jupyter-widgets/controls",
            "_view_module_version": "1.5.0",
            "_view_name": "HBoxView",
            "box_style": "",
            "children": [
              "IPY_MODEL_9f29853273c44441bc6d1cf62f86c9d0",
              "IPY_MODEL_72a85d81cf3a4628a49c6d0448d72aa3",
              "IPY_MODEL_9615d9c2a2d34bb38bbf20e05a92f91d"
            ],
            "layout": "IPY_MODEL_95ff1c96157b45f2b280e670211cb775"
          }
        },
        "04e9c3bcc3cd42a7a9cc393f8e168e23": {
          "model_module": "@jupyter-widgets/controls",
          "model_module_version": "1.5.0",
          "model_name": "ProgressStyleModel",
          "state": {
            "_model_module": "@jupyter-widgets/controls",
            "_model_module_version": "1.5.0",
            "_model_name": "ProgressStyleModel",
            "_view_count": null,
            "_view_module": "@jupyter-widgets/base",
            "_view_module_version": "1.2.0",
            "_view_name": "StyleView",
            "bar_color": null,
            "description_width": ""
          }
        },
        "05e767e013bb40cfb13731173b613886": {
          "model_module": "@jupyter-widgets/controls",
          "model_module_version": "1.5.0",
          "model_name": "HTMLModel",
          "state": {
            "_dom_classes": [],
            "_model_module": "@jupyter-widgets/controls",
            "_model_module_version": "1.5.0",
            "_model_name": "HTMLModel",
            "_view_count": null,
            "_view_module": "@jupyter-widgets/controls",
            "_view_module_version": "1.5.0",
            "_view_name": "HTMLView",
            "description": "",
            "description_tooltip": null,
            "layout": "IPY_MODEL_527d3f065a4b455a98b722dce1b4de58",
            "placeholder": "​",
            "style": "IPY_MODEL_972f984dc7d848f0aaa6914c5a835823",
            "value": " 100/100 [09:38&lt;00:00,  6.04s/it]"
          }
        },
        "0e73af4b8aa44a749b3b1cf40c1973c0": {
          "model_module": "@jupyter-widgets/controls",
          "model_module_version": "1.5.0",
          "model_name": "DescriptionStyleModel",
          "state": {
            "_model_module": "@jupyter-widgets/controls",
            "_model_module_version": "1.5.0",
            "_model_name": "DescriptionStyleModel",
            "_view_count": null,
            "_view_module": "@jupyter-widgets/base",
            "_view_module_version": "1.2.0",
            "_view_name": "StyleView",
            "description_width": ""
          }
        },
        "12949b7a6a394d31b455b4cfce43f91c": {
          "model_module": "@jupyter-widgets/controls",
          "model_module_version": "1.5.0",
          "model_name": "HBoxModel",
          "state": {
            "_dom_classes": [],
            "_model_module": "@jupyter-widgets/controls",
            "_model_module_version": "1.5.0",
            "_model_name": "HBoxModel",
            "_view_count": null,
            "_view_module": "@jupyter-widgets/controls",
            "_view_module_version": "1.5.0",
            "_view_name": "HBoxView",
            "box_style": "",
            "children": [
              "IPY_MODEL_5003f1d9adf747b7840bad346b9f618e",
              "IPY_MODEL_8f1cdcd344404399a6037f974822ec4b",
              "IPY_MODEL_cd3d3f94363144c784ca62057914feeb"
            ],
            "layout": "IPY_MODEL_202ff21901564d81bd68a291554c1749"
          }
        },
        "202ff21901564d81bd68a291554c1749": {
          "model_module": "@jupyter-widgets/base",
          "model_module_version": "1.2.0",
          "model_name": "LayoutModel",
          "state": {
            "_model_module": "@jupyter-widgets/base",
            "_model_module_version": "1.2.0",
            "_model_name": "LayoutModel",
            "_view_count": null,
            "_view_module": "@jupyter-widgets/base",
            "_view_module_version": "1.2.0",
            "_view_name": "LayoutView",
            "align_content": null,
            "align_items": null,
            "align_self": null,
            "border": null,
            "bottom": null,
            "display": null,
            "flex": null,
            "flex_flow": null,
            "grid_area": null,
            "grid_auto_columns": null,
            "grid_auto_flow": null,
            "grid_auto_rows": null,
            "grid_column": null,
            "grid_gap": null,
            "grid_row": null,
            "grid_template_areas": null,
            "grid_template_columns": null,
            "grid_template_rows": null,
            "height": null,
            "justify_content": null,
            "justify_items": null,
            "left": null,
            "margin": null,
            "max_height": null,
            "max_width": null,
            "min_height": null,
            "min_width": null,
            "object_fit": null,
            "object_position": null,
            "order": null,
            "overflow": null,
            "overflow_x": null,
            "overflow_y": null,
            "padding": null,
            "right": null,
            "top": null,
            "visibility": null,
            "width": null
          }
        },
        "2249bc217e23413986534486904c85d8": {
          "model_module": "@jupyter-widgets/base",
          "model_module_version": "1.2.0",
          "model_name": "LayoutModel",
          "state": {
            "_model_module": "@jupyter-widgets/base",
            "_model_module_version": "1.2.0",
            "_model_name": "LayoutModel",
            "_view_count": null,
            "_view_module": "@jupyter-widgets/base",
            "_view_module_version": "1.2.0",
            "_view_name": "LayoutView",
            "align_content": null,
            "align_items": null,
            "align_self": null,
            "border": null,
            "bottom": null,
            "display": null,
            "flex": null,
            "flex_flow": null,
            "grid_area": null,
            "grid_auto_columns": null,
            "grid_auto_flow": null,
            "grid_auto_rows": null,
            "grid_column": null,
            "grid_gap": null,
            "grid_row": null,
            "grid_template_areas": null,
            "grid_template_columns": null,
            "grid_template_rows": null,
            "height": null,
            "justify_content": null,
            "justify_items": null,
            "left": null,
            "margin": null,
            "max_height": null,
            "max_width": null,
            "min_height": null,
            "min_width": null,
            "object_fit": null,
            "object_position": null,
            "order": null,
            "overflow": null,
            "overflow_x": null,
            "overflow_y": null,
            "padding": null,
            "right": null,
            "top": null,
            "visibility": null,
            "width": null
          }
        },
        "2252fac0038941f0b7a29d7bb5a2adab": {
          "model_module": "@jupyter-widgets/controls",
          "model_module_version": "1.5.0",
          "model_name": "FloatProgressModel",
          "state": {
            "_dom_classes": [],
            "_model_module": "@jupyter-widgets/controls",
            "_model_module_version": "1.5.0",
            "_model_name": "FloatProgressModel",
            "_view_count": null,
            "_view_module": "@jupyter-widgets/controls",
            "_view_module_version": "1.5.0",
            "_view_name": "ProgressView",
            "bar_style": "success",
            "description": "",
            "description_tooltip": null,
            "layout": "IPY_MODEL_bba9bd4e2dd84af2a2c19652034c5b7f",
            "max": 100,
            "min": 0,
            "orientation": "horizontal",
            "style": "IPY_MODEL_7738b3216fa24430bf83e16a9a37533e",
            "value": 100
          }
        },
        "3602e8480d7b4828808a2b39ebd72e59": {
          "model_module": "@jupyter-widgets/base",
          "model_module_version": "1.2.0",
          "model_name": "LayoutModel",
          "state": {
            "_model_module": "@jupyter-widgets/base",
            "_model_module_version": "1.2.0",
            "_model_name": "LayoutModel",
            "_view_count": null,
            "_view_module": "@jupyter-widgets/base",
            "_view_module_version": "1.2.0",
            "_view_name": "LayoutView",
            "align_content": null,
            "align_items": null,
            "align_self": null,
            "border": null,
            "bottom": null,
            "display": null,
            "flex": null,
            "flex_flow": null,
            "grid_area": null,
            "grid_auto_columns": null,
            "grid_auto_flow": null,
            "grid_auto_rows": null,
            "grid_column": null,
            "grid_gap": null,
            "grid_row": null,
            "grid_template_areas": null,
            "grid_template_columns": null,
            "grid_template_rows": null,
            "height": null,
            "justify_content": null,
            "justify_items": null,
            "left": null,
            "margin": null,
            "max_height": null,
            "max_width": null,
            "min_height": null,
            "min_width": null,
            "object_fit": null,
            "object_position": null,
            "order": null,
            "overflow": null,
            "overflow_x": null,
            "overflow_y": null,
            "padding": null,
            "right": null,
            "top": null,
            "visibility": null,
            "width": null
          }
        },
        "453ec1734bff44f6916cb7a8c9bbf5e7": {
          "model_module": "@jupyter-widgets/controls",
          "model_module_version": "1.5.0",
          "model_name": "DescriptionStyleModel",
          "state": {
            "_model_module": "@jupyter-widgets/controls",
            "_model_module_version": "1.5.0",
            "_model_name": "DescriptionStyleModel",
            "_view_count": null,
            "_view_module": "@jupyter-widgets/base",
            "_view_module_version": "1.2.0",
            "_view_name": "StyleView",
            "description_width": ""
          }
        },
        "4cc7821f4aba4802ae1ea9c3eeb7f16e": {
          "model_module": "@jupyter-widgets/controls",
          "model_module_version": "1.5.0",
          "model_name": "HTMLModel",
          "state": {
            "_dom_classes": [],
            "_model_module": "@jupyter-widgets/controls",
            "_model_module_version": "1.5.0",
            "_model_name": "HTMLModel",
            "_view_count": null,
            "_view_module": "@jupyter-widgets/controls",
            "_view_module_version": "1.5.0",
            "_view_name": "HTMLView",
            "description": "",
            "description_tooltip": null,
            "layout": "IPY_MODEL_afc22ddc62404f7f8176bc10af813f0d",
            "placeholder": "​",
            "style": "IPY_MODEL_f4d3f182b7ff46768ecab343e9d9059d",
            "value": "100%"
          }
        },
        "4df451ef18cb488ca5afa6c65e972332": {
          "model_module": "@jupyter-widgets/base",
          "model_module_version": "1.2.0",
          "model_name": "LayoutModel",
          "state": {
            "_model_module": "@jupyter-widgets/base",
            "_model_module_version": "1.2.0",
            "_model_name": "LayoutModel",
            "_view_count": null,
            "_view_module": "@jupyter-widgets/base",
            "_view_module_version": "1.2.0",
            "_view_name": "LayoutView",
            "align_content": null,
            "align_items": null,
            "align_self": null,
            "border": null,
            "bottom": null,
            "display": null,
            "flex": null,
            "flex_flow": null,
            "grid_area": null,
            "grid_auto_columns": null,
            "grid_auto_flow": null,
            "grid_auto_rows": null,
            "grid_column": null,
            "grid_gap": null,
            "grid_row": null,
            "grid_template_areas": null,
            "grid_template_columns": null,
            "grid_template_rows": null,
            "height": null,
            "justify_content": null,
            "justify_items": null,
            "left": null,
            "margin": null,
            "max_height": null,
            "max_width": null,
            "min_height": null,
            "min_width": null,
            "object_fit": null,
            "object_position": null,
            "order": null,
            "overflow": null,
            "overflow_x": null,
            "overflow_y": null,
            "padding": null,
            "right": null,
            "top": null,
            "visibility": null,
            "width": null
          }
        },
        "5003f1d9adf747b7840bad346b9f618e": {
          "model_module": "@jupyter-widgets/controls",
          "model_module_version": "1.5.0",
          "model_name": "HTMLModel",
          "state": {
            "_dom_classes": [],
            "_model_module": "@jupyter-widgets/controls",
            "_model_module_version": "1.5.0",
            "_model_name": "HTMLModel",
            "_view_count": null,
            "_view_module": "@jupyter-widgets/controls",
            "_view_module_version": "1.5.0",
            "_view_name": "HTMLView",
            "description": "",
            "description_tooltip": null,
            "layout": "IPY_MODEL_992e75040b5d4d40b1745f2a5db215ad",
            "placeholder": "​",
            "style": "IPY_MODEL_95e47bb01c2a4ac0829bdcf94ebc19ee",
            "value": "vanilla batched grads: 100%"
          }
        },
        "505ff1d29cbd4b15a828bc7b16141092": {
          "model_module": "@jupyter-widgets/base",
          "model_module_version": "1.2.0",
          "model_name": "LayoutModel",
          "state": {
            "_model_module": "@jupyter-widgets/base",
            "_model_module_version": "1.2.0",
            "_model_name": "LayoutModel",
            "_view_count": null,
            "_view_module": "@jupyter-widgets/base",
            "_view_module_version": "1.2.0",
            "_view_name": "LayoutView",
            "align_content": null,
            "align_items": null,
            "align_self": null,
            "border": null,
            "bottom": null,
            "display": null,
            "flex": null,
            "flex_flow": null,
            "grid_area": null,
            "grid_auto_columns": null,
            "grid_auto_flow": null,
            "grid_auto_rows": null,
            "grid_column": null,
            "grid_gap": null,
            "grid_row": null,
            "grid_template_areas": null,
            "grid_template_columns": null,
            "grid_template_rows": null,
            "height": null,
            "justify_content": null,
            "justify_items": null,
            "left": null,
            "margin": null,
            "max_height": null,
            "max_width": null,
            "min_height": null,
            "min_width": null,
            "object_fit": null,
            "object_position": null,
            "order": null,
            "overflow": null,
            "overflow_x": null,
            "overflow_y": null,
            "padding": null,
            "right": null,
            "top": null,
            "visibility": null,
            "width": null
          }
        },
        "527d3f065a4b455a98b722dce1b4de58": {
          "model_module": "@jupyter-widgets/base",
          "model_module_version": "1.2.0",
          "model_name": "LayoutModel",
          "state": {
            "_model_module": "@jupyter-widgets/base",
            "_model_module_version": "1.2.0",
            "_model_name": "LayoutModel",
            "_view_count": null,
            "_view_module": "@jupyter-widgets/base",
            "_view_module_version": "1.2.0",
            "_view_name": "LayoutView",
            "align_content": null,
            "align_items": null,
            "align_self": null,
            "border": null,
            "bottom": null,
            "display": null,
            "flex": null,
            "flex_flow": null,
            "grid_area": null,
            "grid_auto_columns": null,
            "grid_auto_flow": null,
            "grid_auto_rows": null,
            "grid_column": null,
            "grid_gap": null,
            "grid_row": null,
            "grid_template_areas": null,
            "grid_template_columns": null,
            "grid_template_rows": null,
            "height": null,
            "justify_content": null,
            "justify_items": null,
            "left": null,
            "margin": null,
            "max_height": null,
            "max_width": null,
            "min_height": null,
            "min_width": null,
            "object_fit": null,
            "object_position": null,
            "order": null,
            "overflow": null,
            "overflow_x": null,
            "overflow_y": null,
            "padding": null,
            "right": null,
            "top": null,
            "visibility": null,
            "width": null
          }
        },
        "539158e68e0e431f9e6a3e6f0d8c8c2e": {
          "model_module": "@jupyter-widgets/base",
          "model_module_version": "1.2.0",
          "model_name": "LayoutModel",
          "state": {
            "_model_module": "@jupyter-widgets/base",
            "_model_module_version": "1.2.0",
            "_model_name": "LayoutModel",
            "_view_count": null,
            "_view_module": "@jupyter-widgets/base",
            "_view_module_version": "1.2.0",
            "_view_name": "LayoutView",
            "align_content": null,
            "align_items": null,
            "align_self": null,
            "border": null,
            "bottom": null,
            "display": null,
            "flex": null,
            "flex_flow": null,
            "grid_area": null,
            "grid_auto_columns": null,
            "grid_auto_flow": null,
            "grid_auto_rows": null,
            "grid_column": null,
            "grid_gap": null,
            "grid_row": null,
            "grid_template_areas": null,
            "grid_template_columns": null,
            "grid_template_rows": null,
            "height": null,
            "justify_content": null,
            "justify_items": null,
            "left": null,
            "margin": null,
            "max_height": null,
            "max_width": null,
            "min_height": null,
            "min_width": null,
            "object_fit": null,
            "object_position": null,
            "order": null,
            "overflow": null,
            "overflow_x": null,
            "overflow_y": null,
            "padding": null,
            "right": null,
            "top": null,
            "visibility": null,
            "width": null
          }
        },
        "64e6807d56514a05bccf8610413ad276": {
          "model_module": "@jupyter-widgets/base",
          "model_module_version": "1.2.0",
          "model_name": "LayoutModel",
          "state": {
            "_model_module": "@jupyter-widgets/base",
            "_model_module_version": "1.2.0",
            "_model_name": "LayoutModel",
            "_view_count": null,
            "_view_module": "@jupyter-widgets/base",
            "_view_module_version": "1.2.0",
            "_view_name": "LayoutView",
            "align_content": null,
            "align_items": null,
            "align_self": null,
            "border": null,
            "bottom": null,
            "display": null,
            "flex": null,
            "flex_flow": null,
            "grid_area": null,
            "grid_auto_columns": null,
            "grid_auto_flow": null,
            "grid_auto_rows": null,
            "grid_column": null,
            "grid_gap": null,
            "grid_row": null,
            "grid_template_areas": null,
            "grid_template_columns": null,
            "grid_template_rows": null,
            "height": null,
            "justify_content": null,
            "justify_items": null,
            "left": null,
            "margin": null,
            "max_height": null,
            "max_width": null,
            "min_height": null,
            "min_width": null,
            "object_fit": null,
            "object_position": null,
            "order": null,
            "overflow": null,
            "overflow_x": null,
            "overflow_y": null,
            "padding": null,
            "right": null,
            "top": null,
            "visibility": null,
            "width": null
          }
        },
        "7159010e090146f48d8d07c61bda435b": {
          "model_module": "@jupyter-widgets/controls",
          "model_module_version": "1.5.0",
          "model_name": "FloatProgressModel",
          "state": {
            "_dom_classes": [],
            "_model_module": "@jupyter-widgets/controls",
            "_model_module_version": "1.5.0",
            "_model_name": "FloatProgressModel",
            "_view_count": null,
            "_view_module": "@jupyter-widgets/controls",
            "_view_module_version": "1.5.0",
            "_view_name": "ProgressView",
            "bar_style": "success",
            "description": "",
            "description_tooltip": null,
            "layout": "IPY_MODEL_2249bc217e23413986534486904c85d8",
            "max": 100,
            "min": 0,
            "orientation": "horizontal",
            "style": "IPY_MODEL_8deb43ccc46442edb8bfa1bb1792424b",
            "value": 100
          }
        },
        "72a85d81cf3a4628a49c6d0448d72aa3": {
          "model_module": "@jupyter-widgets/controls",
          "model_module_version": "1.5.0",
          "model_name": "FloatProgressModel",
          "state": {
            "_dom_classes": [],
            "_model_module": "@jupyter-widgets/controls",
            "_model_module_version": "1.5.0",
            "_model_name": "FloatProgressModel",
            "_view_count": null,
            "_view_module": "@jupyter-widgets/controls",
            "_view_module_version": "1.5.0",
            "_view_name": "ProgressView",
            "bar_style": "success",
            "description": "",
            "description_tooltip": null,
            "layout": "IPY_MODEL_e8660f39afa04964a48e0baa486e654d",
            "max": 18,
            "min": 0,
            "orientation": "horizontal",
            "style": "IPY_MODEL_f1b8ac8e96b04a2b97229fa526efd53c",
            "value": 18
          }
        },
        "7738b3216fa24430bf83e16a9a37533e": {
          "model_module": "@jupyter-widgets/controls",
          "model_module_version": "1.5.0",
          "model_name": "ProgressStyleModel",
          "state": {
            "_model_module": "@jupyter-widgets/controls",
            "_model_module_version": "1.5.0",
            "_model_name": "ProgressStyleModel",
            "_view_count": null,
            "_view_module": "@jupyter-widgets/base",
            "_view_module_version": "1.2.0",
            "_view_name": "StyleView",
            "bar_color": null,
            "description_width": ""
          }
        },
        "8809a7e8f5ee4c799d50d4d4e7fcbb43": {
          "model_module": "@jupyter-widgets/controls",
          "model_module_version": "1.5.0",
          "model_name": "HBoxModel",
          "state": {
            "_dom_classes": [],
            "_model_module": "@jupyter-widgets/controls",
            "_model_module_version": "1.5.0",
            "_model_name": "HBoxModel",
            "_view_count": null,
            "_view_module": "@jupyter-widgets/controls",
            "_view_module_version": "1.5.0",
            "_view_name": "HBoxView",
            "box_style": "",
            "children": [
              "IPY_MODEL_ea7cb0661d7b4c088f18ad2629192ed7",
              "IPY_MODEL_2252fac0038941f0b7a29d7bb5a2adab",
              "IPY_MODEL_05e767e013bb40cfb13731173b613886"
            ],
            "layout": "IPY_MODEL_bfac6790104a4b2f9f57cdf1b1e2e1a3"
          }
        },
        "8c932ead9f7b44a880211bfa3a97c9b1": {
          "model_module": "@jupyter-widgets/controls",
          "model_module_version": "1.5.0",
          "model_name": "HTMLModel",
          "state": {
            "_dom_classes": [],
            "_model_module": "@jupyter-widgets/controls",
            "_model_module_version": "1.5.0",
            "_model_name": "HTMLModel",
            "_view_count": null,
            "_view_module": "@jupyter-widgets/controls",
            "_view_module_version": "1.5.0",
            "_view_name": "HTMLView",
            "description": "",
            "description_tooltip": null,
            "layout": "IPY_MODEL_3602e8480d7b4828808a2b39ebd72e59",
            "placeholder": "​",
            "style": "IPY_MODEL_453ec1734bff44f6916cb7a8c9bbf5e7",
            "value": " 100/100 [08:36&lt;00:00,  5.00s/it]"
          }
        },
        "8deb43ccc46442edb8bfa1bb1792424b": {
          "model_module": "@jupyter-widgets/controls",
          "model_module_version": "1.5.0",
          "model_name": "ProgressStyleModel",
          "state": {
            "_model_module": "@jupyter-widgets/controls",
            "_model_module_version": "1.5.0",
            "_model_name": "ProgressStyleModel",
            "_view_count": null,
            "_view_module": "@jupyter-widgets/base",
            "_view_module_version": "1.2.0",
            "_view_name": "StyleView",
            "bar_color": null,
            "description_width": ""
          }
        },
        "8f1cdcd344404399a6037f974822ec4b": {
          "model_module": "@jupyter-widgets/controls",
          "model_module_version": "1.5.0",
          "model_name": "FloatProgressModel",
          "state": {
            "_dom_classes": [],
            "_model_module": "@jupyter-widgets/controls",
            "_model_module_version": "1.5.0",
            "_model_name": "FloatProgressModel",
            "_view_count": null,
            "_view_module": "@jupyter-widgets/controls",
            "_view_module_version": "1.5.0",
            "_view_name": "ProgressView",
            "bar_style": "success",
            "description": "",
            "description_tooltip": null,
            "layout": "IPY_MODEL_505ff1d29cbd4b15a828bc7b16141092",
            "max": 48,
            "min": 0,
            "orientation": "horizontal",
            "style": "IPY_MODEL_04e9c3bcc3cd42a7a9cc393f8e168e23",
            "value": 48
          }
        },
        "8f6aa821239d4ea1af67d4ce4954b514": {
          "model_module": "@jupyter-widgets/controls",
          "model_module_version": "1.5.0",
          "model_name": "DescriptionStyleModel",
          "state": {
            "_model_module": "@jupyter-widgets/controls",
            "_model_module_version": "1.5.0",
            "_model_name": "DescriptionStyleModel",
            "_view_count": null,
            "_view_module": "@jupyter-widgets/base",
            "_view_module_version": "1.2.0",
            "_view_name": "StyleView",
            "description_width": ""
          }
        },
        "95e47bb01c2a4ac0829bdcf94ebc19ee": {
          "model_module": "@jupyter-widgets/controls",
          "model_module_version": "1.5.0",
          "model_name": "DescriptionStyleModel",
          "state": {
            "_model_module": "@jupyter-widgets/controls",
            "_model_module_version": "1.5.0",
            "_model_name": "DescriptionStyleModel",
            "_view_count": null,
            "_view_module": "@jupyter-widgets/base",
            "_view_module_version": "1.2.0",
            "_view_name": "StyleView",
            "description_width": ""
          }
        },
        "95ff1c96157b45f2b280e670211cb775": {
          "model_module": "@jupyter-widgets/base",
          "model_module_version": "1.2.0",
          "model_name": "LayoutModel",
          "state": {
            "_model_module": "@jupyter-widgets/base",
            "_model_module_version": "1.2.0",
            "_model_name": "LayoutModel",
            "_view_count": null,
            "_view_module": "@jupyter-widgets/base",
            "_view_module_version": "1.2.0",
            "_view_name": "LayoutView",
            "align_content": null,
            "align_items": null,
            "align_self": null,
            "border": null,
            "bottom": null,
            "display": null,
            "flex": null,
            "flex_flow": null,
            "grid_area": null,
            "grid_auto_columns": null,
            "grid_auto_flow": null,
            "grid_auto_rows": null,
            "grid_column": null,
            "grid_gap": null,
            "grid_row": null,
            "grid_template_areas": null,
            "grid_template_columns": null,
            "grid_template_rows": null,
            "height": null,
            "justify_content": null,
            "justify_items": null,
            "left": null,
            "margin": null,
            "max_height": null,
            "max_width": null,
            "min_height": null,
            "min_width": null,
            "object_fit": null,
            "object_position": null,
            "order": null,
            "overflow": null,
            "overflow_x": null,
            "overflow_y": null,
            "padding": null,
            "right": null,
            "top": null,
            "visibility": null,
            "width": null
          }
        },
        "9615d9c2a2d34bb38bbf20e05a92f91d": {
          "model_module": "@jupyter-widgets/controls",
          "model_module_version": "1.5.0",
          "model_name": "HTMLModel",
          "state": {
            "_dom_classes": [],
            "_model_module": "@jupyter-widgets/controls",
            "_model_module_version": "1.5.0",
            "_model_name": "HTMLModel",
            "_view_count": null,
            "_view_module": "@jupyter-widgets/controls",
            "_view_module_version": "1.5.0",
            "_view_name": "HTMLView",
            "description": "",
            "description_tooltip": null,
            "layout": "IPY_MODEL_64e6807d56514a05bccf8610413ad276",
            "placeholder": "​",
            "style": "IPY_MODEL_8f6aa821239d4ea1af67d4ce4954b514",
            "value": " 18/18 [34:58&lt;00:00, 201.98s/it]"
          }
        },
        "972f984dc7d848f0aaa6914c5a835823": {
          "model_module": "@jupyter-widgets/controls",
          "model_module_version": "1.5.0",
          "model_name": "DescriptionStyleModel",
          "state": {
            "_model_module": "@jupyter-widgets/controls",
            "_model_module_version": "1.5.0",
            "_model_name": "DescriptionStyleModel",
            "_view_count": null,
            "_view_module": "@jupyter-widgets/base",
            "_view_module_version": "1.2.0",
            "_view_name": "StyleView",
            "description_width": ""
          }
        },
        "992e75040b5d4d40b1745f2a5db215ad": {
          "model_module": "@jupyter-widgets/base",
          "model_module_version": "1.2.0",
          "model_name": "LayoutModel",
          "state": {
            "_model_module": "@jupyter-widgets/base",
            "_model_module_version": "1.2.0",
            "_model_name": "LayoutModel",
            "_view_count": null,
            "_view_module": "@jupyter-widgets/base",
            "_view_module_version": "1.2.0",
            "_view_name": "LayoutView",
            "align_content": null,
            "align_items": null,
            "align_self": null,
            "border": null,
            "bottom": null,
            "display": null,
            "flex": null,
            "flex_flow": null,
            "grid_area": null,
            "grid_auto_columns": null,
            "grid_auto_flow": null,
            "grid_auto_rows": null,
            "grid_column": null,
            "grid_gap": null,
            "grid_row": null,
            "grid_template_areas": null,
            "grid_template_columns": null,
            "grid_template_rows": null,
            "height": null,
            "justify_content": null,
            "justify_items": null,
            "left": null,
            "margin": null,
            "max_height": null,
            "max_width": null,
            "min_height": null,
            "min_width": null,
            "object_fit": null,
            "object_position": null,
            "order": null,
            "overflow": null,
            "overflow_x": null,
            "overflow_y": null,
            "padding": null,
            "right": null,
            "top": null,
            "visibility": null,
            "width": null
          }
        },
        "9f29853273c44441bc6d1cf62f86c9d0": {
          "model_module": "@jupyter-widgets/controls",
          "model_module_version": "1.5.0",
          "model_name": "HTMLModel",
          "state": {
            "_dom_classes": [],
            "_model_module": "@jupyter-widgets/controls",
            "_model_module_version": "1.5.0",
            "_model_name": "HTMLModel",
            "_view_count": null,
            "_view_module": "@jupyter-widgets/controls",
            "_view_module_version": "1.5.0",
            "_view_name": "HTMLView",
            "description": "",
            "description_tooltip": null,
            "layout": "IPY_MODEL_4df451ef18cb488ca5afa6c65e972332",
            "placeholder": "​",
            "style": "IPY_MODEL_d55fbeea040949eea2b18cffe5363408",
            "value": "SGD: 100%"
          }
        },
        "a7909f6e2b10431d8879275a33ade908": {
          "model_module": "@jupyter-widgets/base",
          "model_module_version": "1.2.0",
          "model_name": "LayoutModel",
          "state": {
            "_model_module": "@jupyter-widgets/base",
            "_model_module_version": "1.2.0",
            "_model_name": "LayoutModel",
            "_view_count": null,
            "_view_module": "@jupyter-widgets/base",
            "_view_module_version": "1.2.0",
            "_view_name": "LayoutView",
            "align_content": null,
            "align_items": null,
            "align_self": null,
            "border": null,
            "bottom": null,
            "display": null,
            "flex": null,
            "flex_flow": null,
            "grid_area": null,
            "grid_auto_columns": null,
            "grid_auto_flow": null,
            "grid_auto_rows": null,
            "grid_column": null,
            "grid_gap": null,
            "grid_row": null,
            "grid_template_areas": null,
            "grid_template_columns": null,
            "grid_template_rows": null,
            "height": null,
            "justify_content": null,
            "justify_items": null,
            "left": null,
            "margin": null,
            "max_height": null,
            "max_width": null,
            "min_height": null,
            "min_width": null,
            "object_fit": null,
            "object_position": null,
            "order": null,
            "overflow": null,
            "overflow_x": null,
            "overflow_y": null,
            "padding": null,
            "right": null,
            "top": null,
            "visibility": null,
            "width": null
          }
        },
        "afc22ddc62404f7f8176bc10af813f0d": {
          "model_module": "@jupyter-widgets/base",
          "model_module_version": "1.2.0",
          "model_name": "LayoutModel",
          "state": {
            "_model_module": "@jupyter-widgets/base",
            "_model_module_version": "1.2.0",
            "_model_name": "LayoutModel",
            "_view_count": null,
            "_view_module": "@jupyter-widgets/base",
            "_view_module_version": "1.2.0",
            "_view_name": "LayoutView",
            "align_content": null,
            "align_items": null,
            "align_self": null,
            "border": null,
            "bottom": null,
            "display": null,
            "flex": null,
            "flex_flow": null,
            "grid_area": null,
            "grid_auto_columns": null,
            "grid_auto_flow": null,
            "grid_auto_rows": null,
            "grid_column": null,
            "grid_gap": null,
            "grid_row": null,
            "grid_template_areas": null,
            "grid_template_columns": null,
            "grid_template_rows": null,
            "height": null,
            "justify_content": null,
            "justify_items": null,
            "left": null,
            "margin": null,
            "max_height": null,
            "max_width": null,
            "min_height": null,
            "min_width": null,
            "object_fit": null,
            "object_position": null,
            "order": null,
            "overflow": null,
            "overflow_x": null,
            "overflow_y": null,
            "padding": null,
            "right": null,
            "top": null,
            "visibility": null,
            "width": null
          }
        },
        "bba9bd4e2dd84af2a2c19652034c5b7f": {
          "model_module": "@jupyter-widgets/base",
          "model_module_version": "1.2.0",
          "model_name": "LayoutModel",
          "state": {
            "_model_module": "@jupyter-widgets/base",
            "_model_module_version": "1.2.0",
            "_model_name": "LayoutModel",
            "_view_count": null,
            "_view_module": "@jupyter-widgets/base",
            "_view_module_version": "1.2.0",
            "_view_name": "LayoutView",
            "align_content": null,
            "align_items": null,
            "align_self": null,
            "border": null,
            "bottom": null,
            "display": null,
            "flex": null,
            "flex_flow": null,
            "grid_area": null,
            "grid_auto_columns": null,
            "grid_auto_flow": null,
            "grid_auto_rows": null,
            "grid_column": null,
            "grid_gap": null,
            "grid_row": null,
            "grid_template_areas": null,
            "grid_template_columns": null,
            "grid_template_rows": null,
            "height": null,
            "justify_content": null,
            "justify_items": null,
            "left": null,
            "margin": null,
            "max_height": null,
            "max_width": null,
            "min_height": null,
            "min_width": null,
            "object_fit": null,
            "object_position": null,
            "order": null,
            "overflow": null,
            "overflow_x": null,
            "overflow_y": null,
            "padding": null,
            "right": null,
            "top": null,
            "visibility": null,
            "width": null
          }
        },
        "bfac6790104a4b2f9f57cdf1b1e2e1a3": {
          "model_module": "@jupyter-widgets/base",
          "model_module_version": "1.2.0",
          "model_name": "LayoutModel",
          "state": {
            "_model_module": "@jupyter-widgets/base",
            "_model_module_version": "1.2.0",
            "_model_name": "LayoutModel",
            "_view_count": null,
            "_view_module": "@jupyter-widgets/base",
            "_view_module_version": "1.2.0",
            "_view_name": "LayoutView",
            "align_content": null,
            "align_items": null,
            "align_self": null,
            "border": null,
            "bottom": null,
            "display": null,
            "flex": null,
            "flex_flow": null,
            "grid_area": null,
            "grid_auto_columns": null,
            "grid_auto_flow": null,
            "grid_auto_rows": null,
            "grid_column": null,
            "grid_gap": null,
            "grid_row": null,
            "grid_template_areas": null,
            "grid_template_columns": null,
            "grid_template_rows": null,
            "height": null,
            "justify_content": null,
            "justify_items": null,
            "left": null,
            "margin": null,
            "max_height": null,
            "max_width": null,
            "min_height": null,
            "min_width": null,
            "object_fit": null,
            "object_position": null,
            "order": null,
            "overflow": null,
            "overflow_x": null,
            "overflow_y": null,
            "padding": null,
            "right": null,
            "top": null,
            "visibility": null,
            "width": null
          }
        },
        "cd3d3f94363144c784ca62057914feeb": {
          "model_module": "@jupyter-widgets/controls",
          "model_module_version": "1.5.0",
          "model_name": "HTMLModel",
          "state": {
            "_dom_classes": [],
            "_model_module": "@jupyter-widgets/controls",
            "_model_module_version": "1.5.0",
            "_model_name": "HTMLModel",
            "_view_count": null,
            "_view_module": "@jupyter-widgets/controls",
            "_view_module_version": "1.5.0",
            "_view_name": "HTMLView",
            "description": "",
            "description_tooltip": null,
            "layout": "IPY_MODEL_539158e68e0e431f9e6a3e6f0d8c8c2e",
            "placeholder": "​",
            "style": "IPY_MODEL_eb80f952626f41dcb45bcb01e8d5be8a",
            "value": " 48/48 [00:48&lt;00:00,  3.80s/it]"
          }
        },
        "d55fbeea040949eea2b18cffe5363408": {
          "model_module": "@jupyter-widgets/controls",
          "model_module_version": "1.5.0",
          "model_name": "DescriptionStyleModel",
          "state": {
            "_model_module": "@jupyter-widgets/controls",
            "_model_module_version": "1.5.0",
            "_model_name": "DescriptionStyleModel",
            "_view_count": null,
            "_view_module": "@jupyter-widgets/base",
            "_view_module_version": "1.2.0",
            "_view_name": "StyleView",
            "description_width": ""
          }
        },
        "e8660f39afa04964a48e0baa486e654d": {
          "model_module": "@jupyter-widgets/base",
          "model_module_version": "1.2.0",
          "model_name": "LayoutModel",
          "state": {
            "_model_module": "@jupyter-widgets/base",
            "_model_module_version": "1.2.0",
            "_model_name": "LayoutModel",
            "_view_count": null,
            "_view_module": "@jupyter-widgets/base",
            "_view_module_version": "1.2.0",
            "_view_name": "LayoutView",
            "align_content": null,
            "align_items": null,
            "align_self": null,
            "border": null,
            "bottom": null,
            "display": null,
            "flex": null,
            "flex_flow": null,
            "grid_area": null,
            "grid_auto_columns": null,
            "grid_auto_flow": null,
            "grid_auto_rows": null,
            "grid_column": null,
            "grid_gap": null,
            "grid_row": null,
            "grid_template_areas": null,
            "grid_template_columns": null,
            "grid_template_rows": null,
            "height": null,
            "justify_content": null,
            "justify_items": null,
            "left": null,
            "margin": null,
            "max_height": null,
            "max_width": null,
            "min_height": null,
            "min_width": null,
            "object_fit": null,
            "object_position": null,
            "order": null,
            "overflow": null,
            "overflow_x": null,
            "overflow_y": null,
            "padding": null,
            "right": null,
            "top": null,
            "visibility": null,
            "width": null
          }
        },
        "ea7cb0661d7b4c088f18ad2629192ed7": {
          "model_module": "@jupyter-widgets/controls",
          "model_module_version": "1.5.0",
          "model_name": "HTMLModel",
          "state": {
            "_dom_classes": [],
            "_model_module": "@jupyter-widgets/controls",
            "_model_module_version": "1.5.0",
            "_model_name": "HTMLModel",
            "_view_count": null,
            "_view_module": "@jupyter-widgets/controls",
            "_view_module_version": "1.5.0",
            "_view_name": "HTMLView",
            "description": "",
            "description_tooltip": null,
            "layout": "IPY_MODEL_a7909f6e2b10431d8879275a33ade908",
            "placeholder": "​",
            "style": "IPY_MODEL_0e73af4b8aa44a749b3b1cf40c1973c0",
            "value": "100%"
          }
        },
        "eb80f952626f41dcb45bcb01e8d5be8a": {
          "model_module": "@jupyter-widgets/controls",
          "model_module_version": "1.5.0",
          "model_name": "DescriptionStyleModel",
          "state": {
            "_model_module": "@jupyter-widgets/controls",
            "_model_module_version": "1.5.0",
            "_model_name": "DescriptionStyleModel",
            "_view_count": null,
            "_view_module": "@jupyter-widgets/base",
            "_view_module_version": "1.2.0",
            "_view_name": "StyleView",
            "description_width": ""
          }
        },
        "f1b8ac8e96b04a2b97229fa526efd53c": {
          "model_module": "@jupyter-widgets/controls",
          "model_module_version": "1.5.0",
          "model_name": "ProgressStyleModel",
          "state": {
            "_model_module": "@jupyter-widgets/controls",
            "_model_module_version": "1.5.0",
            "_model_name": "ProgressStyleModel",
            "_view_count": null,
            "_view_module": "@jupyter-widgets/base",
            "_view_module_version": "1.2.0",
            "_view_name": "StyleView",
            "bar_color": null,
            "description_width": ""
          }
        },
        "f4d3f182b7ff46768ecab343e9d9059d": {
          "model_module": "@jupyter-widgets/controls",
          "model_module_version": "1.5.0",
          "model_name": "DescriptionStyleModel",
          "state": {
            "_model_module": "@jupyter-widgets/controls",
            "_model_module_version": "1.5.0",
            "_model_name": "DescriptionStyleModel",
            "_view_count": null,
            "_view_module": "@jupyter-widgets/base",
            "_view_module_version": "1.2.0",
            "_view_name": "StyleView",
            "description_width": ""
          }
        },
        "f728830c176c45c1a5dac2c80784c213": {
          "model_module": "@jupyter-widgets/controls",
          "model_module_version": "1.5.0",
          "model_name": "HBoxModel",
          "state": {
            "_dom_classes": [],
            "_model_module": "@jupyter-widgets/controls",
            "_model_module_version": "1.5.0",
            "_model_name": "HBoxModel",
            "_view_count": null,
            "_view_module": "@jupyter-widgets/controls",
            "_view_module_version": "1.5.0",
            "_view_name": "HBoxView",
            "box_style": "",
            "children": [
              "IPY_MODEL_4cc7821f4aba4802ae1ea9c3eeb7f16e",
              "IPY_MODEL_7159010e090146f48d8d07c61bda435b",
              "IPY_MODEL_8c932ead9f7b44a880211bfa3a97c9b1"
            ],
            "layout": "IPY_MODEL_ff77a47ea4c745ee916d78efec295cef"
          }
        },
        "ff77a47ea4c745ee916d78efec295cef": {
          "model_module": "@jupyter-widgets/base",
          "model_module_version": "1.2.0",
          "model_name": "LayoutModel",
          "state": {
            "_model_module": "@jupyter-widgets/base",
            "_model_module_version": "1.2.0",
            "_model_name": "LayoutModel",
            "_view_count": null,
            "_view_module": "@jupyter-widgets/base",
            "_view_module_version": "1.2.0",
            "_view_name": "LayoutView",
            "align_content": null,
            "align_items": null,
            "align_self": null,
            "border": null,
            "bottom": null,
            "display": null,
            "flex": null,
            "flex_flow": null,
            "grid_area": null,
            "grid_auto_columns": null,
            "grid_auto_flow": null,
            "grid_auto_rows": null,
            "grid_column": null,
            "grid_gap": null,
            "grid_row": null,
            "grid_template_areas": null,
            "grid_template_columns": null,
            "grid_template_rows": null,
            "height": null,
            "justify_content": null,
            "justify_items": null,
            "left": null,
            "margin": null,
            "max_height": null,
            "max_width": null,
            "min_height": null,
            "min_width": null,
            "object_fit": null,
            "object_position": null,
            "order": null,
            "overflow": null,
            "overflow_x": null,
            "overflow_y": null,
            "padding": null,
            "right": null,
            "top": null,
            "visibility": null,
            "width": null
          }
        }
      }
    }
  },
  "nbformat": 4,
  "nbformat_minor": 0
}
