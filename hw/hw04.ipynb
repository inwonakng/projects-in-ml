{
  "cells": [
    {
      "cell_type": "markdown",
      "source": [
        "\n",
        "\n",
        "In your project, you will pick a dataset (time-series) and an associated problem that can be solved via sequence models. You must describe why you need sequence models to solve this problem. Include a link to the dataset source. Next, you should pick an RNN framework that you would use to solve this problem (This framework can be in TensorFlow, PyTorch or any other Python Package)."
      ],
      "metadata": {
        "id": "qnIJteJuhaEr"
      }
    },
    {
      "cell_type": "markdown",
      "source": [
        "For this problem, I will use the Walmart sales forecasting dataset. This dataset contains a date field, weather and gas price in the area, and some anonymized features about marketing operations that Walmart is running. This dataset can be accessed on:\n",
        "\n",
        "https://www.kaggle.com/datasets/aslanahmedov/walmart-sales-forecast\n"
      ],
      "metadata": {
        "id": "oRMTVrofglCy"
      }
    },
    {
      "cell_type": "code",
      "source": [],
      "metadata": {
        "id": "d2dEE-3NhZwH"
      },
      "execution_count": null,
      "outputs": []
    },
    {
      "cell_type": "markdown",
      "metadata": {
        "id": "m6PRZBOiY4WY"
      },
      "source": [
        "## Task 1 (60 points):\n",
        "### Part 1 (30 points): \n",
        "Implement your RNN either using an existing framework OR you can implement your own RNN cell structure. In either case, describe the structure of your RNN and the activation functions you are using for each time step and in the output layer. Define a metric you will use to measure the performance of your model \n",
        "\n",
        "NOTE: Performance should be measured both for the validation set and the test set.\n",
        "\n",
        "### Part 2 (35 points): \n",
        "Update your network from part 1 with first an LSTM and then a GRU based cell structure (You can treat both as 2 separate implementations). Re-do the training and performance evaluation. What are the major differences you notice? Why do you think those differences exist between the 3 implementations (basic RNN, LSTM and GRU)?\n",
        "\n",
        "Note: In part 1 and 2, you must perform sufficient data-visualization, pre-processing and/or feature-engineering if needed. The overall performance visualization of the loss function should also be provided.\n",
        "\n",
        "### Part 3 (10 points): \n",
        "Can you use the traditional feed-forward network to solve the same problem. Why or why not? \n",
        "\n",
        "Hint: Can time series data be converted to usual features that can be used as input to a feed-forward network?\n",
        "\n",
        "\n",
        "## Task 2 (25 points): \n",
        "In this task, use any of the pre-trained word embeddings. The Wor2vec embedding link provided with the lecture notes can be useful to get started. Write your own code/function that Projects in Machine Learning and AI (RPI Fall 2022) uses these embeddings and outputs cosine similarity and a dissimilarity score for any 2 pair of words (read as user input). The dissimilarity score should be defined by you. You either can have your own idea of a dissimilarity score or refer to literature (cite the paper you used). In \n",
        "either case clearly describe how this score helps determine the dissimilarity between 2 words.\n",
        "\n",
        "Note: Dissimilarity measure has been an important metric for recommender systems trying to introduce ‘Novelty and Diversity’ in assortments (as opposed to only accuracy). You might find different metrics of dissimilarity in recommender system’s literature"
      ]
    },
    {
      "cell_type": "code",
      "source": [],
      "metadata": {
        "id": "oPusv8DShUbQ"
      },
      "execution_count": null,
      "outputs": []
    }
  ],
  "metadata": {
    "language_info": {
      "name": "python"
    },
    "orig_nbformat": 4,
    "colab": {
      "provenance": []
    },
    "kernelspec": {
      "name": "python3",
      "display_name": "Python 3"
    }
  },
  "nbformat": 4,
  "nbformat_minor": 0
}