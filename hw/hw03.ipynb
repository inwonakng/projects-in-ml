{
 "cells": [
  {
   "cell_type": "markdown",
   "metadata": {},
   "source": [
    "# Projects in AI & ML HW 3"
   ]
  },
  {
   "cell_type": "code",
   "execution_count": null,
   "metadata": {},
   "outputs": [],
   "source": [
    "# same deal for gdrive and kaggle\n",
    "from google.colab import drive\n",
    "drive.mount('/content/drive')\n",
    "\n",
    "!rm -r ~/.kaggle\n",
    "!mkdir ~/.kaggle\n",
    "!cp /content/drive/MyDrive/.kaggle/kaggle.json ~/.kaggle/\n",
    "!chmod 600 ~/.kaggle/kaggle.json\n",
    "!pip install -q kaggle\n"
   ]
  },
  {
   "cell_type": "markdown",
   "metadata": {},
   "source": [
    "In your project, you will pick a dataset (not the same as in the previous homeworks) and \n",
    "describe the problem you would like to solve. Include a link to the dataset source. It is highly recommended that you pick a dataset with at least 10,000 (or more observations. There are many ways of describing a big dataset and one way to describe it is – a big dataset is more complex. Complexity can refer to the number of observations, features, or the type of data. For this project, there is no restriction to the number of features your dataset has. However, having more features gives you greater ability to apply the techniques discussed in class. Next, you should pick a Deep Learning Framework that you would like to use to implement your 2-layer Neural Network. "
   ]
  },
  {
   "cell_type": "markdown",
   "metadata": {},
   "source": [
    "### Task 1 (10 points): \n",
    "\n",
    "Assuming you are not familiar with the framework, in this part of the homework you will present your research describing the resources you used to learn the framework (must include links to all resources). Clearly explain why you needed a particular \n",
    "resource for implementing a 2-layer Neural Network (NN). (Consider how you will keep track of all the computations in a NN i.e., what libraries/tools do you need within this framework.)\n",
    "For example, some of the known resources for TensorFlow are:\n",
    "https://www.tensorflow.org/guide/autodiff\n",
    "https://www.tensorflow.org/api_docs/python/tf/GradientTape\n",
    "Hint: You need to figure out the APIs/packages used to implement forward propagation and \n",
    "backward propagation. "
   ]
  },
  {
   "cell_type": "markdown",
   "metadata": {},
   "source": [
    "### Task 2 (60 points): \n",
    "\n",
    "Once you have figured the resources you need for the project, design, and \n",
    "implement your project. The project must include the following steps (it’s not limited to these \n",
    "steps):\n",
    "1. Exploratory Data Analysis (Can include data cleaning, visualization etc.)\n",
    "2. Perform a train-dev-test split.\n",
    "3. Implement forward propagation (clearly describe the activation functions and other hyper-parameters you are using).\n",
    "Projects in Machine Learning and AI (RPI Fall 2022)\n",
    "4. Compute the final cost function.\n",
    "5. Implement gradient descent (any variant of gradient descent depending upon your data and project can be used) to train your model. In this step it is up to you as someone in charge of their project to improvise using optimization algorithms (Adams, RMSProp etc.) and/or regularization.\n",
    "6. Present the results using the test set.\n",
    "NOTE: In this step, once you have implemented your 2-layer network you may increase and/or decrease the number of layers as part of the hyperparameter tuning process."
   ]
  },
  {
   "cell_type": "markdown",
   "metadata": {},
   "source": [
    "### Task 3 (10 points): \n",
    "\n",
    "In task 2 describe how you selected the hyperparameters. What was the rationale behind the technique you used? Did you use regularization? Why, or why not? Did you use \n",
    "an optimization algorithm? Why or why not?"
   ]
  },
  {
   "cell_type": "markdown",
   "metadata": {},
   "source": [
    "\n",
    "### Task 4 (20 points): \n",
    "\n",
    "Create another baseline model (can be any model we covered so far except a \n",
    "deep learning model). Using the same training data (as above) train your model and evaluate results using the test set. Compare the results of both models (the Neural Network and the baseline model). What are the reasons for one model performing better (or not) than the other? Explain."
   ]
  }
 ],
 "metadata": {
  "kernelspec": {
   "display_name": "Python 3.8.10 64-bit",
   "language": "python",
   "name": "python3"
  },
  "language_info": {
   "name": "python",
   "version": "3.8.10"
  },
  "orig_nbformat": 4,
  "vscode": {
   "interpreter": {
    "hash": "916dbcbb3f70747c44a77c7bcd40155683ae19c65e1c03b4aa3499c5328201f1"
   }
  }
 },
 "nbformat": 4,
 "nbformat_minor": 2
}
